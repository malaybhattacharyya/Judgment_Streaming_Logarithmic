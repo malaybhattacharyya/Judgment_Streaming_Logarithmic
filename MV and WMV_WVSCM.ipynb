{
 "cells": [
  {
   "cell_type": "code",
   "execution_count": 24,
   "metadata": {
    "id": "EeFgECww9gHr"
   },
   "outputs": [],
   "source": [
    "import numpy as np\n",
    "import pandas as pd\n",
    "import copy #Use for Deep copy\n",
    "\n",
    "import seaborn as sns\n",
    "import matplotlib.pyplot as plt"
   ]
  },
  {
   "cell_type": "code",
   "execution_count": 25,
   "metadata": {
    "id": "-Xh_-vok9lbF"
   },
   "outputs": [
    {
     "name": "stdout",
     "output_type": "stream",
     "text": [
      "[[ 1  0  0 ... -1 -1 -1]\n",
      " [ 0  0  0 ...  1  1 -1]\n",
      " [ 0  0  1 ... -1 -1 -1]\n",
      " ...\n",
      " [-1 -1 -1 ... -1 -1 -1]\n",
      " [-1 -1 -1 ... -1 -1 -1]\n",
      " [-1 -1 -1 ... -1 -1 -1]]\n"
     ]
    }
   ],
   "source": [
    "\n",
    "with open('/home/jyoti/Downloads/MTech_Dissertation-main/dataset for binary opinion/WVSCM/new code/response_matrix.npy', 'rb') as f:\n",
    "    response_matrix = np.load(f)\n",
    "print(response_matrix)"
   ]
  },
  {
   "cell_type": "code",
   "execution_count": 32,
   "metadata": {},
   "outputs": [
    {
     "data": {
      "text/plain": [
       "(64, 2135)"
      ]
     },
     "execution_count": 32,
     "metadata": {},
     "output_type": "execute_result"
    }
   ],
   "source": [
    "response_matrix.shape"
   ]
  },
  {
   "cell_type": "code",
   "execution_count": 26,
   "metadata": {
    "id": "crJnG15J9t57"
   },
   "outputs": [
    {
     "name": "stdout",
     "output_type": "stream",
     "text": [
      "   Unnamed: 0  Question_id  Question_Reduced_Id  Gold_level\n",
      "0           0         2001                 1973           1\n",
      "1           1         2002                 1974           0\n",
      "2           2         2003                 1975           0\n",
      "3           3         2004                 1976           1\n",
      "4           4         2005                 1977           0\n"
     ]
    }
   ],
   "source": [
    "train = pd.read_csv('/home/jyoti/Downloads/MTech_Dissertation-main/dataset for binary opinion/WVSCM/new code/new_gold.csv')\n",
    "print(train.head())"
   ]
  },
  {
   "cell_type": "markdown",
   "metadata": {
    "id": "UAROlKac99Yn"
   },
   "source": [
    "#Majority voting"
   ]
  },
  {
   "cell_type": "code",
   "execution_count": 27,
   "metadata": {
    "id": "i8H4pWUa9-nP"
   },
   "outputs": [],
   "source": [
    "def majority(J, block, a):\n",
    "    for j in range(block.shape[1]):\n",
    "        for k in range(block.shape[0]):\n",
    "            if response_matrix[a + k][j] != -1:\n",
    "                J[j][response_matrix[a + k][j]] += 1\n",
    "\n",
    "    return J"
   ]
  },
  {
   "cell_type": "code",
   "execution_count": 33,
   "metadata": {},
   "outputs": [],
   "source": [
    "c,r=len(np.unique(response_matrix))-1,response_matrix.shape[1]\n",
    "p=r*c"
   ]
  },
  {
   "cell_type": "code",
   "execution_count": 36,
   "metadata": {},
   "outputs": [],
   "source": [
    "gold_total=len(train)"
   ]
  },
  {
   "cell_type": "code",
   "execution_count": 37,
   "metadata": {
    "id": "NSuPRw3y-Dqe"
   },
   "outputs": [
    {
     "name": "stdout",
     "output_type": "stream",
     "text": [
      "Accuracy after 16 annotators' response is 68.7500 %\n",
      "Accuracy after 32 annotators' response is 74.3750 %\n",
      "Accuracy after 48 annotators' response is 71.2500 %\n",
      "Accuracy after 64 annotators' response is 75.0000 %\n"
     ]
    }
   ],
   "source": [
    "a, b = 0, 16\n",
    "\n",
    "M = np.array([-1]*p).reshape(r, c)\n",
    "Majority_Result = np.array([-1]*r)\n",
    "\n",
    "while b <= response_matrix.shape[0]:\n",
    "    A = response_matrix[a : b]\n",
    "    M = majority(M, A, a)\n",
    "\n",
    "    for j in range(M.shape[0]):\n",
    "        Majority_Result[j] = np.argmax(M[j])\n",
    "\n",
    "    right = 0\n",
    "    for j in range(len(train)):\n",
    "        if train[train.columns[3]][j] == Majority_Result[train[train.columns[2]][j]]:\n",
    "            right += 1\n",
    "\n",
    "    print(f'Accuracy after {b} annotators\\' response is {right / gold_total * 100 :.4f} %')\n",
    "\n",
    "    a = b\n",
    "    b += 16"
   ]
  },
  {
   "cell_type": "code",
   "execution_count": 38,
   "metadata": {
    "id": "Ly-Uii4y-En5"
   },
   "outputs": [
    {
     "name": "stdout",
     "output_type": "stream",
     "text": [
      "[[42 16]\n",
      " [24 78]]\n"
     ]
    }
   ],
   "source": [
    "Confusion_matrix = np.zeros((2, 2), dtype = 'int64')\n",
    "for j in range(len(train)):\n",
    "    if train[train.columns[3]][j] == 1:\n",
    "        if train[train.columns[3]][j] == Majority_Result[train[train.columns[2]][j]]:\n",
    "            Confusion_matrix[0][0] += 1\n",
    "        elif Majority_Result[train[train.columns[2]][j]] == 0:\n",
    "            Confusion_matrix[0][1] += 1\n",
    "\n",
    "    elif train[train.columns[3]][j] == 0:\n",
    "        if train[train.columns[3]][j] == Majority_Result[train[train.columns[2]][j]]:\n",
    "            Confusion_matrix[1][1] += 1\n",
    "        elif Majority_Result[train[train.columns[2]][j]] == 1:\n",
    "            Confusion_matrix[1][0] += 1\n",
    "print(Confusion_matrix)"
   ]
  },
  {
   "cell_type": "code",
   "execution_count": 39,
   "metadata": {
    "id": "H0HdwG89-IVu"
   },
   "outputs": [
    {
     "data": {
      "image/png": "[encoded data removed]",
      "text/plain": [
       "<Figure size 640x480 with 2 Axes>"
      ]
     },
     "metadata": {},
     "output_type": "display_data"
    }
   ],
   "source": [
    "ax = sns.heatmap(Confusion_matrix, annot=True, cmap = plt.cm.magma)\n",
    "\n",
    "ax.set_title('Confusion Matrix\\n');\n",
    "ax.set_xlabel('\\nPredicted Values')\n",
    "ax.set_ylabel('Actual Values ');\n",
    "\n",
    "ax.xaxis.set_ticklabels(i for i in ('Positive', 'Negetive'))\n",
    "ax.yaxis.set_ticklabels(i for i in ('Positive', 'Negetive'))\n",
    "plt.show()"
   ]
  },
  {
   "cell_type": "markdown",
   "metadata": {
    "id": "w8HuFOPS-Lxk"
   },
   "source": [
    "#Weighted Majority Voting"
   ]
  },
  {
   "cell_type": "code",
   "execution_count": 40,
   "metadata": {
    "id": "93GOEbNS-Jid"
   },
   "outputs": [],
   "source": [
    "def weighted_majority(J, block, a):\n",
    "    for j in range(block.shape[1]):\n",
    "        for k in range(block.shape[0]):\n",
    "            if response_matrix[a + k][j] != -1:\n",
    "                J[j][response_matrix[a + k][j]] += accuracy[a + k]\n",
    "\n",
    "    return J"
   ]
  },
  {
   "cell_type": "code",
   "execution_count": 43,
   "metadata": {},
   "outputs": [],
   "source": [
    "s1 = int(len(train)* 0.3)\n",
    "train2 = train[:s1]"
   ]
  },
  {
   "cell_type": "code",
   "execution_count": 44,
   "metadata": {},
   "outputs": [],
   "source": [
    "accuracy = [1 / len(train2)]*response_matrix.shape[0]\n",
    "for i in range (response_matrix.shape[0]):\n",
    "    tot, corr = 0.0, 0.0\n",
    "    for j in range(len(train2)):\n",
    "        if -1 != response_matrix[i][train2[train2.columns[2]][j]]:\n",
    "            tot += 1\n",
    "            if train2[train.columns[3]][j] == response_matrix[i][train2[train2.columns[2]][j]]:\n",
    "                corr += 1\n",
    "    if tot != 0:\n",
    "        accuracy[i] += corr / tot\n",
    "        \n",
    "accuracy = ((accuracy - np.min(accuracy))/ (np.max(accuracy)-(np.min(accuracy)))) * 0.5"
   ]
  },
  {
   "cell_type": "code",
   "execution_count": 45,
   "metadata": {},
   "outputs": [
    {
     "data": {
      "text/plain": [
       "array([0.        , 0.33333333, 0.        , 0.        , 0.28571429])"
      ]
     },
     "execution_count": 45,
     "metadata": {},
     "output_type": "execute_result"
    }
   ],
   "source": [
    "accuracy[:5]"
   ]
  },
  {
   "cell_type": "code",
   "execution_count": 46,
   "metadata": {
    "id": "Cr7XbQ_o-Je9"
   },
   "outputs": [
    {
     "name": "stdout",
     "output_type": "stream",
     "text": [
      "Accuracy after 16 annotators' response is 70.0000 %\n",
      "Accuracy after 32 annotators' response is 75.6250 %\n",
      "Accuracy after 48 annotators' response is 74.3750 %\n",
      "Accuracy after 64 annotators' response is 73.1250 %\n"
     ]
    }
   ],
   "source": [
    "a, b = 0, 16\n",
    "\n",
    "M = np.array([-1.]*p).reshape(r, c)\n",
    "Weighted_Majority_Result = np.array([-1]*r)\n",
    "\n",
    "while b <= response_matrix.shape[0]:\n",
    "    A = response_matrix[a : b]\n",
    "    M = weighted_majority(M, A, a)\n",
    "\n",
    "    for j in range(M.shape[0]):\n",
    "        Weighted_Majority_Result[j] = np.argmax(M[j])\n",
    "\n",
    "    right = 0\n",
    "    for j in range(len(train)):\n",
    "        if train[train.columns[3]][j] == Weighted_Majority_Result[train[train.columns[2]][j]]:\n",
    "            right += 1\n",
    "\n",
    "    print(f'Accuracy after {b} annotators\\' response is {right / len(train) * 100 :.4f} %')\n",
    "\n",
    "    a = b\n",
    "    b += 16"
   ]
  },
  {
   "cell_type": "code",
   "execution_count": 47,
   "metadata": {
    "id": "XGlwpL_o-Jcn"
   },
   "outputs": [
    {
     "name": "stdout",
     "output_type": "stream",
     "text": [
      "[[39 19]\n",
      " [24 78]]\n"
     ]
    }
   ],
   "source": [
    "Confusion_matrix = np.zeros((2, 2), dtype = 'int64')\n",
    "for j in range(len(train)):\n",
    "    if train[train.columns[3]][j] == 1:\n",
    "        if train[train.columns[3]][j] == Weighted_Majority_Result[train[train.columns[2]][j]]:\n",
    "            Confusion_matrix[0][0] += 1\n",
    "        elif Weighted_Majority_Result[train[train.columns[2]][j]] == 0:\n",
    "            Confusion_matrix[0][1] += 1\n",
    "    elif train[train.columns[3]][j] == 0:\n",
    "        if train[train.columns[3]][j] == Weighted_Majority_Result[train[train.columns[2]][j]]:\n",
    "            Confusion_matrix[1][1] += 1\n",
    "        elif Weighted_Majority_Result[train[train.columns[2]][j]] == 1:\n",
    "            Confusion_matrix[1][0] += 1\n",
    "print(Confusion_matrix)"
   ]
  },
  {
   "cell_type": "code",
   "execution_count": 48,
   "metadata": {
    "id": "oGNtV0aS-JaY"
   },
   "outputs": [
    {
     "data": {
      "image/png": "[encoded data removed]",
      "text/plain": [
       "<Figure size 640x480 with 2 Axes>"
      ]
     },
     "metadata": {},
     "output_type": "display_data"
    }
   ],
   "source": [
    "ax = sns.heatmap(Confusion_matrix, annot=True, cmap = plt.cm.magma)\n",
    "\n",
    "ax.set_title('Confusion Matrix\\n');\n",
    "ax.set_xlabel('\\nPredicted Values')\n",
    "ax.set_ylabel('Actual Values ');\n",
    "\n",
    "ax.xaxis.set_ticklabels(i for i in ('Positive', 'Negetive'))\n",
    "ax.yaxis.set_ticklabels(i for i in ('Positive', 'Negetive'))\n",
    "plt.show()"
   ]
  },
  {
   "cell_type": "code",
   "execution_count": null,
   "metadata": {
    "id": "a1omMhJ8-Vrb"
   },
   "outputs": [],
   "source": []
  },
  {
   "cell_type": "code",
   "execution_count": null,
   "metadata": {
    "id": "U8-XRPFG-VoE"
   },
   "outputs": [],
   "source": []
  },
  {
   "cell_type": "code",
   "execution_count": null,
   "metadata": {
    "id": "bx4AnHrq-Vlb"
   },
   "outputs": [],
   "source": []
  }
 ],
 "metadata": {
  "colab": {
   "provenance": []
  },
  "kernelspec": {
   "display_name": "Python 3 (ipykernel)",
   "language": "python",
   "name": "python3"
  },
  "language_info": {
   "codemirror_mode": {
    "name": "ipython",
    "version": 3
   },
   "file_extension": ".py",
   "mimetype": "text/x-python",
   "name": "python",
   "nbconvert_exporter": "python",
   "pygments_lexer": "ipython3",
   "version": "3.11.4"
  }
 },
 "nbformat": 4,
 "nbformat_minor": 1
}
